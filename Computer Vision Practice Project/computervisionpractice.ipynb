{
 "cells": [
  {
   "cell_type": "code",
   "execution_count": 1,
   "id": "37c231cf",
   "metadata": {},
   "outputs": [],
   "source": [
    "import cv2\n",
    "import numpy"
   ]
  },
  {
   "cell_type": "code",
   "execution_count": 2,
   "id": "6a83e07e",
   "metadata": {},
   "outputs": [],
   "source": [
    "img1 = cv2.imread(r\"E:\\Kavita Marriage\\Pic for Album\\DSC_3390.JPG\",1)\n",
    "img1 = cv2.resize(img1,(400,300))\n",
    "cv2.imshow(\"Cat\",img1)\n",
    "cv2.waitKey(0)\n",
    "cv2.destroyAllWindows()"
   ]
  },
  {
   "cell_type": "code",
   "execution_count": 3,
   "id": "8428cefd",
   "metadata": {},
   "outputs": [],
   "source": [
    "faceCascade = cv2.CascadeClassifier(r\"C:\\Users\\hd147\\Desktop\\haarcascade_frontalface_default.xml\")\n",
    "eyeCascade = cv2.CascadeClassifier(r\"C:\\Users\\hd147\\Desktop\\haarcascade_eye.xml\")"
   ]
  },
  {
   "cell_type": "code",
   "execution_count": 5,
   "id": "d245852f",
   "metadata": {},
   "outputs": [],
   "source": [
    "gray = cv2.cvtColor(img1, cv2.COLOR_BGR2GRAY)\n",
    "\n",
    "faces = faceCascade.detectMultiScale(gray,1.5,4)\n",
    "    \n",
    "    # Draw a rectangle around the faces\n",
    "for (x, y, w, h) in faces:\n",
    "    image = cv2.rectangle(img1, (x, y), (x+w, y+h), (255, 0, 0), 1)\n",
    "    # Draw a rectangle around the eyes\n",
    "    roi_gray = gray[y:y+h, x:x+w]\n",
    "    roi_color = image[y:y+h, x:x+w]\n",
    "    eyes = eyeCascade.detectMultiScale(roi_gray, 1.2, 3)\n",
    "    for (x, y, w, h) in eyes:\n",
    "        cv2.rectangle(roi_color, (x, y), (x+w,y+h), (0,255,0), 3)\n",
    "cv2.imshow(\"Face and Eyes detection\",image)\n",
    "cv2.waitKey(0)\n",
    "cv2.destroyAllWindows()"
   ]
  },
  {
   "cell_type": "code",
   "execution_count": 12,
   "id": "e4297874",
   "metadata": {},
   "outputs": [],
   "source": [
    "video_capture = cv2.VideoCapture(0)\n",
    "\n",
    "while True:\n",
    "    # Capture frame-by-frame\n",
    "    ret, frame = video_capture.read()\n",
    "    \n",
    "    frame = cv2.flip(frame,1)\n",
    "    \n",
    "    gray = cv2.cvtColor(frame, cv2.COLOR_BGR2GRAY)\n",
    "\n",
    "    faces = faceCascade.detectMultiScale(gray,1.5,4)\n",
    "    \n",
    "    # Draw a rectangle around the faces\n",
    "    for (x, y, w, h) in faces:\n",
    "        image = cv2.rectangle(frame, (x, y), (x+w, y+h), (255, 0, 0), 1)\n",
    "    # Draw a rectangle around the eyes\n",
    "        roi_gray = gray[y:y+h, x:x+w]\n",
    "        roi_color = image[y:y+h, x:x+w]\n",
    "        eyes = eyeCascade.detectMultiScale(roi_gray, 1.2, 3)\n",
    "        for (x, y, w, h) in eyes:\n",
    "            cv2.rectangle(roi_color, (x, y), (x+w,y+h), (0,255,0), 3)\n",
    "    \n",
    "    cv2.imshow('Video', image)\n",
    "\n",
    "    if cv2.waitKey(1) & 0xFF == ord('q'):\n",
    "        break\n",
    "\n",
    "# When everything is done, release the capture\n",
    "video_capture.release()\n",
    "cv2.destroyAllWindows()"
   ]
  },
  {
   "cell_type": "code",
   "execution_count": 5,
   "id": "28ab5193",
   "metadata": {},
   "outputs": [
    {
     "ename": "UnboundLocalError",
     "evalue": "local variable 'image' referenced before assignment",
     "output_type": "error",
     "traceback": [
      "\u001b[1;31m---------------------------------------------------------------------------\u001b[0m",
      "\u001b[1;31mUnboundLocalError\u001b[0m                         Traceback (most recent call last)",
      "Input \u001b[1;32mIn [5]\u001b[0m, in \u001b[0;36m<cell line: 18>\u001b[1;34m()\u001b[0m\n\u001b[0;32m     20\u001b[0m ret, frame \u001b[38;5;241m=\u001b[39m video_capture\u001b[38;5;241m.\u001b[39mread()\n\u001b[0;32m     22\u001b[0m frame \u001b[38;5;241m=\u001b[39m cv2\u001b[38;5;241m.\u001b[39mflip(frame,\u001b[38;5;241m1\u001b[39m)\n\u001b[1;32m---> 24\u001b[0m cv2\u001b[38;5;241m.\u001b[39mimshow(\u001b[38;5;124m'\u001b[39m\u001b[38;5;124mVideo\u001b[39m\u001b[38;5;124m'\u001b[39m, \u001b[43mFaceEyeDetect\u001b[49m\u001b[43m(\u001b[49m\u001b[43mframe\u001b[49m\u001b[43m)\u001b[49m)\n\u001b[0;32m     26\u001b[0m \u001b[38;5;28;01mif\u001b[39;00m cv2\u001b[38;5;241m.\u001b[39mwaitKey(\u001b[38;5;241m1\u001b[39m) \u001b[38;5;241m&\u001b[39m \u001b[38;5;241m0xFF\u001b[39m \u001b[38;5;241m==\u001b[39m \u001b[38;5;28mord\u001b[39m(\u001b[38;5;124m'\u001b[39m\u001b[38;5;124mq\u001b[39m\u001b[38;5;124m'\u001b[39m):\n\u001b[0;32m     27\u001b[0m     \u001b[38;5;28;01mbreak\u001b[39;00m\n",
      "Input \u001b[1;32mIn [5]\u001b[0m, in \u001b[0;36mFaceEyeDetect\u001b[1;34m(frame)\u001b[0m\n\u001b[0;32m     13\u001b[0m     \u001b[38;5;28;01mfor\u001b[39;00m (x, y, w, h) \u001b[38;5;129;01min\u001b[39;00m eyes:\n\u001b[0;32m     14\u001b[0m         cv2\u001b[38;5;241m.\u001b[39mrectangle(roi_color, (x, y), (x\u001b[38;5;241m+\u001b[39mw,y\u001b[38;5;241m+\u001b[39mh), (\u001b[38;5;241m0\u001b[39m,\u001b[38;5;241m255\u001b[39m,\u001b[38;5;241m0\u001b[39m), \u001b[38;5;241m3\u001b[39m)\n\u001b[1;32m---> 15\u001b[0m \u001b[38;5;28;01mreturn\u001b[39;00m \u001b[43mimage\u001b[49m\n",
      "\u001b[1;31mUnboundLocalError\u001b[0m: local variable 'image' referenced before assignment"
     ]
    }
   ],
   "source": [
    "def FaceEyeDetect(frame) :\n",
    "    gray = cv2.cvtColor(frame, cv2.COLOR_BGR2GRAY)\n",
    "\n",
    "    faces = faceCascade.detectMultiScale(gray,1.5,4)\n",
    "    \n",
    "    # Draw a rectangle around the faces\n",
    "    for (x, y, w, h) in faces:\n",
    "        image = cv2.rectangle(frame, (x, y), (x+w, y+h), (255, 0, 0), 1)\n",
    "    # Draw a rectangle around the eyes\n",
    "        roi_gray = gray[y:y+h, x:x+w]\n",
    "        roi_color = image[y:y+h, x:x+w]\n",
    "        eyes = eyeCascade.detectMultiScale(roi_gray, 1.2, 3)\n",
    "        for (x, y, w, h) in eyes:\n",
    "            cv2.rectangle(roi_color, (x, y), (x+w,y+h), (0,255,0), 3)\n",
    "    return image\n",
    "    # Display the resulting frame\n",
    "video_capture = cv2.VideoCapture(0)\n",
    "while True:\n",
    "    # Capture frame-by-frame\n",
    "    ret, frame = video_capture.read()\n",
    "    \n",
    "    frame = cv2.flip(frame,1)\n",
    "    \n",
    "    cv2.imshow('Video', FaceEyeDetect(frame))\n",
    "\n",
    "    if cv2.waitKey(1) & 0xFF == ord('q'):\n",
    "        break\n",
    "\n",
    "# When everything is done, release the capture\n",
    "video_capture.release()\n",
    "cv2.destroyAllWindows()"
   ]
  }
 ],
 "metadata": {
  "kernelspec": {
   "display_name": "Python 3 (ipykernel)",
   "language": "python",
   "name": "python3"
  },
  "language_info": {
   "codemirror_mode": {
    "name": "ipython",
    "version": 3
   },
   "file_extension": ".py",
   "mimetype": "text/x-python",
   "name": "python",
   "nbconvert_exporter": "python",
   "pygments_lexer": "ipython3",
   "version": "3.10.4"
  }
 },
 "nbformat": 4,
 "nbformat_minor": 5
}
